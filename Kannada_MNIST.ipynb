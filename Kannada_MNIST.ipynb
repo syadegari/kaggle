{
 "cells": [
  {
   "cell_type": "code",
   "execution_count": 1,
   "metadata": {
    "colab": {
     "base_uri": "https://localhost:8080/",
     "height": 122
    },
    "colab_type": "code",
    "executionInfo": {
     "elapsed": 334995,
     "status": "ok",
     "timestamp": 1576429052234,
     "user": {
      "displayName": "Sourena Yadegari",
      "photoUrl": "https://lh3.googleusercontent.com/a-/AAuE7mCa7NTenonlz2p6qJpzcTyqjrz-WYn2v1d35aFi8Q=s64",
      "userId": "11085846951418553697"
     },
     "user_tz": -60
    },
    "id": "hnhDvSMjGrwK",
    "outputId": "88df3478-b599-44df-809f-62faead10fdb"
   },
   "outputs": [
    {
     "name": "stdout",
     "output_type": "stream",
     "text": [
      "Go to this URL in a browser: https://accounts.google.com/o/oauth2/auth?client_id=947318989803-6bn6qk8qdgf4n4g3pfee6491hc0brc4i.apps.googleusercontent.com&redirect_uri=urn%3aietf%3awg%3aoauth%3a2.0%3aoob&response_type=code&scope=email%20https%3a%2f%2fwww.googleapis.com%2fauth%2fdocs.test%20https%3a%2f%2fwww.googleapis.com%2fauth%2fdrive%20https%3a%2f%2fwww.googleapis.com%2fauth%2fdrive.photos.readonly%20https%3a%2f%2fwww.googleapis.com%2fauth%2fpeopleapi.readonly\n",
      "\n",
      "Enter your authorization code:\n",
      "··········\n",
      "Mounted at /content/gdrive\n"
     ]
    }
   ],
   "source": [
    "import sys, os, platform, inspect\n",
    "\n",
    "def get_current_file_path():\n",
    "    # script filename (usually with path)\n",
    "    filename = inspect.getfile(inspect.currentframe())\n",
    "    # script directory\n",
    "    path = os.path.dirname(os.path.abspath(inspect.getfile(inspect.currentframe())))\n",
    "    return filename, path\n",
    "\n",
    "\n",
    "if platform.system() == 'Linux': # Colab setting\n",
    "    from google.colab import drive\n",
    "    drive.mount('/content/gdrive')\n",
    "    path = '/content/gdrive/My Drive/Colab Notebooks/kaggle'\n",
    "else:\n",
    "    _, path = get_current_file_path()    \n",
    "\n",
    "sys.path.insert(0, path)\n",
    "os.chdir(path)\n",
    "\n",
    "sys.path.append(path + '/t-SNE')"
   ]
  },
  {
   "cell_type": "code",
   "execution_count": 2,
   "metadata": {
    "_cell_guid": "79c7e3d0-c299-4dcb-8224-4455121ee9b0",
    "_uuid": "d629ff2d2480ee46fbb7e2d37f6b5fab8052498a",
    "colab": {},
    "colab_type": "code",
    "id": "cZwqmD_3_R8R"
   },
   "outputs": [],
   "source": [
    "import torchvision\n",
    "from torchvision import transforms\n",
    "import pandas as pd\n",
    "import numpy as np\n",
    "import torch\n",
    "import torch.nn as nn\n",
    "import torch.nn.functional as F\n",
    "from torch.utils import data\n",
    "import matplotlib.pyplot as plt\n",
    "from PIL import Image"
   ]
  },
  {
   "cell_type": "code",
   "execution_count": 3,
   "metadata": {
    "colab": {},
    "colab_type": "code",
    "id": "8EgoX8Oa_R8T"
   },
   "outputs": [],
   "source": [
    "train = pd.read_csv('train.csv').to_numpy()\n",
    "\n",
    "tr_train = torchvision.transforms.Compose([\n",
    "    Image.fromarray,\n",
    "    transforms.RandomRotation(10),    \n",
    "    transforms.ToTensor(),\n",
    "#        transforms.RandomErasing(p=0.2, scale=(0.02, .1)),        \n",
    "    transforms.Normalize([0.5], [0.5],)\n",
    "])\n",
    "X_train, y_train = train[:, 1:], train[:, 0]\n",
    "X_train, y_train = torch.tensor(X_train).to(torch.float).reshape(-1, 28, 28),\\\n",
    "                   torch.tensor(y_train)\n",
    "\n",
    "X_train = torch.stack([\n",
    "    tr_train(x.numpy().astype(np.uint8)) for x in torch.unbind(X_train, dim=0)\n",
    "], dim=0)\n",
    "\n",
    "dset_train = data.TensorDataset(X_train, y_train)\n",
    "\n",
    "factor = 0.9\n",
    "train_len = int(len(dset_train) * factor)\n",
    "valid_len = len(dset_train)  - train_len\n",
    "\n",
    "dset_train, dset_valid = data.random_split(dset_train, [train_len, valid_len])\n",
    "\n",
    "batch_size = 16\n",
    "\n",
    "dloader_train = data.DataLoader(dset_train, batch_size=batch_size, shuffle=True)\n",
    "dloader_valid = data.DataLoader(dset_valid, batch_size=batch_size, shuffle=True)"
   ]
  },
  {
   "cell_type": "code",
   "execution_count": 8,
   "metadata": {
    "colab": {
     "base_uri": "https://localhost:8080/",
     "height": 171
    },
    "colab_type": "code",
    "executionInfo": {
     "elapsed": 349926,
     "status": "ok",
     "timestamp": 1576429067188,
     "user": {
      "displayName": "Sourena Yadegari",
      "photoUrl": "https://lh3.googleusercontent.com/a-/AAuE7mCa7NTenonlz2p6qJpzcTyqjrz-WYn2v1d35aFi8Q=s64",
      "userId": "11085846951418553697"
     },
     "user_tz": -60
    },
    "id": "bbaZjLH4_R8V",
    "outputId": "0c277726-252a-4d28-f494-dfa996e6484e"
   },
   "outputs": [
    {
     "name": "stdout",
     "output_type": "stream",
     "text": [
      "tensor([0, 4, 7, 7, 0, 1, 6, 7, 2, 3, 9, 3, 6, 0, 4, 8])\n"
     ]
    },
    {
     "data": {
      "image/png": "[encoded data removed]",
      "text/plain": [
       "<Figure size 432x288 with 1 Axes>"
      ]
     },
     "metadata": {
      "needs_background": "light"
     },
     "output_type": "display_data"
    }
   ],
   "source": [
    "x, y = next(iter(dloader_train))\n",
    "plt.imshow((torchvision.utils.make_grid(x).numpy().transpose(1, 2, 0)+1)/2, cmap='gray')\n",
    "print(y)"
   ]
  },
  {
   "cell_type": "code",
   "execution_count": 9,
   "metadata": {
    "colab": {},
    "colab_type": "code",
    "id": "Nu4M1_he_R8X"
   },
   "outputs": [],
   "source": [
    "def conv2d_layer(c_in, c_out, k=3, padding=1, bn=True, relu=nn.ReLU()):\n",
    "    seq = [nn.Conv2d(c_in, c_out, k, padding=padding), relu]\n",
    "    if bn:\n",
    "        seq.append(nn.BatchNorm2d(c_out))\n",
    "    return(nn.Sequential(*seq))\n",
    "\n",
    "class Model(nn.Module):\n",
    "    '''Docs here ...'''\n",
    "    def __init__(self):\n",
    "        super(Model, self).__init__()\n",
    "        \n",
    "        self.feature = nn.Sequential(\n",
    "            conv2d_layer(1, 16),\n",
    "            conv2d_layer(16, 32),   nn.MaxPool2d(2),\n",
    "            conv2d_layer(32, 64),\n",
    "            conv2d_layer(64, 128),  nn.MaxPool2d(2),\n",
    "            conv2d_layer(128, 256))\n",
    "        \n",
    "        self.classifier = nn.Sequential(\n",
    "            nn.Linear(256 * 7**2, 128),\n",
    "            nn.LeakyReLU(), nn.Dropout(),\n",
    "            nn.Linear(128, 10))\n",
    "        \n",
    "    def forward(self, x):\n",
    "        x = self.feature(x)\n",
    "        x = x.view(x.size(0), -1)\n",
    "        return self.classifier(x)"
   ]
  },
  {
   "cell_type": "code",
   "execution_count": 10,
   "metadata": {
    "colab": {},
    "colab_type": "code",
    "id": "78Jt9otyoHmR"
   },
   "outputs": [],
   "source": [
    "def static_vars(**kwargs):\n",
    "    def decorate(func):\n",
    "        for k in kwargs:\n",
    "            setattr(func, k, kwargs[k])\n",
    "        return func\n",
    "    return decorate"
   ]
  },
  {
   "cell_type": "code",
   "execution_count": 12,
   "metadata": {},
   "outputs": [
    {
     "data": {
      "text/plain": [
       "Model(\n",
       "  (feature): Sequential(\n",
       "    (0): Sequential(\n",
       "      (0): Conv2d(1, 16, kernel_size=(3, 3), stride=(1, 1), padding=(1, 1))\n",
       "      (1): ReLU()\n",
       "      (2): BatchNorm2d(16, eps=1e-05, momentum=0.1, affine=True, track_running_stats=True)\n",
       "    )\n",
       "    (1): Sequential(\n",
       "      (0): Conv2d(16, 32, kernel_size=(3, 3), stride=(1, 1), padding=(1, 1))\n",
       "      (1): ReLU()\n",
       "      (2): BatchNorm2d(32, eps=1e-05, momentum=0.1, affine=True, track_running_stats=True)\n",
       "    )\n",
       "    (2): MaxPool2d(kernel_size=2, stride=2, padding=0, dilation=1, ceil_mode=False)\n",
       "    (3): Sequential(\n",
       "      (0): Conv2d(32, 64, kernel_size=(3, 3), stride=(1, 1), padding=(1, 1))\n",
       "      (1): ReLU()\n",
       "      (2): BatchNorm2d(64, eps=1e-05, momentum=0.1, affine=True, track_running_stats=True)\n",
       "    )\n",
       "    (4): Sequential(\n",
       "      (0): Conv2d(64, 128, kernel_size=(3, 3), stride=(1, 1), padding=(1, 1))\n",
       "      (1): ReLU()\n",
       "      (2): BatchNorm2d(128, eps=1e-05, momentum=0.1, affine=True, track_running_stats=True)\n",
       "    )\n",
       "    (5): MaxPool2d(kernel_size=2, stride=2, padding=0, dilation=1, ceil_mode=False)\n",
       "    (6): Sequential(\n",
       "      (0): Conv2d(128, 256, kernel_size=(3, 3), stride=(1, 1), padding=(1, 1))\n",
       "      (1): ReLU()\n",
       "      (2): BatchNorm2d(256, eps=1e-05, momentum=0.1, affine=True, track_running_stats=True)\n",
       "    )\n",
       "  )\n",
       "  (classifier): Sequential(\n",
       "    (0): Linear(in_features=12544, out_features=128, bias=True)\n",
       "    (1): LeakyReLU(negative_slope=0.01)\n",
       "    (2): Dropout(p=0.5, inplace=False)\n",
       "    (3): Linear(in_features=128, out_features=10, bias=True)\n",
       "  )\n",
       ")"
      ]
     },
     "execution_count": 12,
     "metadata": {},
     "output_type": "execute_result"
    }
   ],
   "source": [
    "model = Model()\n",
    "model"
   ]
  },
  {
   "cell_type": "code",
   "execution_count": null,
   "metadata": {
    "colab": {
     "base_uri": "https://localhost:8080/",
     "height": 1000
    },
    "colab_type": "code",
    "executionInfo": {
     "elapsed": 1139256,
     "status": "ok",
     "timestamp": 1576422539194,
     "user": {
      "displayName": "Sourena Yadegari",
      "photoUrl": "https://lh3.googleusercontent.com/a-/AAuE7mCa7NTenonlz2p6qJpzcTyqjrz-WYn2v1d35aFi8Q=s64",
      "userId": "11085846951418553697"
     },
     "user_tz": -60
    },
    "id": "fQ_y0wnM_R8Z",
    "outputId": "447ae3e1-98bf-4508-bd19-5fbd9e6d385b"
   },
   "outputs": [],
   "source": [
    "@static_vars(ℓ_min=np.inf)\n",
    "def save_model(ℓ, model, verbose=True):\n",
    "    if ℓ < save_model.ℓ_min:\n",
    "        save_model.ℓ_min = ℓ\n",
    "        if verbose:\n",
    "        #    print(f'min loss: {save_model.ℓ_min:.5f} current loss {ℓ:.5f}', end='')            \n",
    "            print(f' ==> saving model')\n",
    "        torch.save(model.state_dict(), 'model.pt')\n",
    "\n",
    "device = torch.device('cuda:0' if torch.cuda.is_available() else 'cpu')\n",
    "model = Model().to(device)\n",
    "print(model)\n",
    "ℓ_fn = nn.CrossEntropyLoss()\n",
    "lr = 0.0015\n",
    "optimizer = torch.optim.SGD(model.parameters(), lr=lr)\n",
    "epochs = 50\n",
    "for i_epoch in range(1, epochs+1):\n",
    "    for x, y in dloader_train:\n",
    "        x, y = x.to(device), y.to(device)\n",
    "        optimizer.zero_grad()\n",
    "        ℓ_fn(model(x), y).backward()\n",
    "        optimizer.step()\n",
    "    model.eval()\n",
    "    loss_val = []\n",
    "    loss_acc = []\n",
    "    for x, y in dloader_train:\n",
    "        x, y = x.to(device), y.to(device)\n",
    "        ŷ = model(x)\n",
    "        ℓ = ℓ_fn(ŷ, y)\n",
    "        loss_val.append(ℓ.cpu().item())\n",
    "        loss_acc.append((y == ŷ.argmax(dim=1)).to(torch.float).mean())\n",
    "    model.train()\n",
    "    print(f'Epoch {i_epoch} loss: {sum(loss_val)/len(loss_val):.5f}, accuracy: {sum(loss_acc)/len(loss_acc):.5f}')\n",
    "    save_model(sum(loss_val)/len(loss_val), model)"
   ]
  }
 ],
 "metadata": {
  "accelerator": "GPU",
  "colab": {
   "collapsed_sections": [],
   "name": "Kannada_MNIST.ipynb",
   "provenance": []
  },
  "kernelspec": {
   "display_name": "Python 3",
   "language": "python",
   "name": "python3"
  },
  "language_info": {
   "codemirror_mode": {
    "name": "ipython",
    "version": 3
   },
   "file_extension": ".py",
   "mimetype": "text/x-python",
   "name": "python",
   "nbconvert_exporter": "python",
   "pygments_lexer": "ipython3",
   "version": "3.6.3"
  }
 },
 "nbformat": 4,
 "nbformat_minor": 1
}
